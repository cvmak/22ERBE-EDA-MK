{
 "cells": [
  {
   "cell_type": "markdown",
   "id": "d3a20645",
   "metadata": {},
   "source": [
    "# Week 1\n",
    "Demonstration of data analysis for **ERBE Week 1**\n"
   ]
  },
  {
   "cell_type": "markdown",
   "id": "03d5f9ab",
   "metadata": {},
   "source": [
    "## Read CSV file"
   ]
  },
  {
   "cell_type": "code",
   "execution_count": 33,
   "id": "678d7a73",
   "metadata": {},
   "outputs": [],
   "source": [
    "import pandas as pd"
   ]
  },
  {
   "cell_type": "code",
   "execution_count": null,
   "id": "559cdaa6",
   "metadata": {},
   "outputs": [],
   "source": [
    "df=pd.read_csv(r'../Data/eplusout.csv')\n",
    "df"
   ]
  }
 ],
 "metadata": {
  "kernelspec": {
   "display_name": "Python 3 (ipykernel)",
   "language": "python",
   "name": "python3"
  },
  "language_info": {
   "codemirror_mode": {
    "name": "ipython",
    "version": 3
   },
   "file_extension": ".py",
   "mimetype": "text/x-python",
   "name": "python",
   "nbconvert_exporter": "python",
   "pygments_lexer": "ipython3",
   "version": "3.9.7"
  }
 },
 "nbformat": 4,
 "nbformat_minor": 5
}
